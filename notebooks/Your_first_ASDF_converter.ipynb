{
 "cells": [
  {
   "cell_type": "markdown",
   "id": "4f5a1c61",
   "metadata": {},
   "source": [
    "Writing your first ASDF converter tutorial\n",
    "=================================\n",
    "\n",
    "This tutorial is intended to illustrate the basics of writing\n",
    "Python converters for Python objects to serialize to and from\n",
    "ASDF files.\n",
    "\n",
    "The first part will only deal with the actual converter aspect.\n",
    "A second tutorial will use schemas for converters.\n",
    "The purpose of the schema is to provide data for validation\n",
    "machinery so that any particular ASDF file that contains this \n",
    "tag is consistent with the schema.\n",
    "\n",
    "What is an ASDF converter?\n",
    "--------------------------------\n",
    "\n",
    "The converter is the machinery for turning a Python object\n",
    "into the yaml content in the ASDF file (and in the case of \n",
    "data also the binary content in the ASDF file),\n",
    "and visa versa, being able to read an ASDF \n",
    "file that has the object serialized, and turn it back into\n",
    "a Python object equivalent to the one it started out as.\n",
    "\n",
    "Note: The object to be serialized to ASDF must consist\n",
    "of only elements that ADSF knows how to serialize. ASDF does\n",
    "know how to serialize numpy arrays and all standard \n",
    "Python primative types (e.g., strings, numbers, booleans,\n",
    "lists and dictionaries), as well as objects that have \n",
    "serialization defined (e.g., astropy models and GWCS).\n",
    "For example, if you define a class that has as one of\n",
    "its attributes another Python class instance that doesn't\n",
    "have a converter defined, the conversion will fail.\n",
    "\n",
    "Goal of this tutorial\n",
    "----------------------\n",
    "\n",
    "There are several different ways of adding converters, some\n",
    "simpler than this tutorial. This tutorial, however, expects\n",
    "that the user of the ASDF extension wants to do as little\n",
    "extra work to use the extension with ASDF, ideally\n",
    "none at all, and this means using entry points. \n",
    "Furthermore, although much of this particular case can be\n",
    "placed in fewer files, there is a good reason to use the \n",
    "separate files used in this tutorial.\n",
    "\n",
    "Groundwork\n",
    "--------------\n",
    "\n",
    "For ASDF to be aware of the converters, it is necessary \n",
    "to include in the setup.cfg file information for an entry\n",
    "point for ASDF. Entry points are\n",
    "a very useful Python tool for making plug-ins for packages\n",
    "easy for users of the plug-in to use, both in the installation\n",
    "and usage aspect.\n",
    "Entry points remove the need for the core package to be continually \n",
    "updated with new extension packages that it has to be aware of.\n",
    "\n",
    "This information is provided in the converter package's\n",
    "setup.cfg (it could be in\n",
    "setup.py, but the .cfg file is the usual place to put this\n",
    "information). What happens when the package is installed is\n",
    "that information about entry points is saved by Python. Python\n",
    "provides an API to the core package for it to discover what \n",
    "entry points have been designated for that package so that it can\n",
    "make use of them.\n",
    "\n",
    "In this example we will bundle the converters with the class\n",
    "definitions that the converters will serialize. It is not\n",
    "required that the class definitions must be in the same\n",
    "package as the converters. For simplicity, they are for this\n",
    "tutorial.\n",
    "\n",
    "We will name the converter package mfconverter (for My First\n",
    "Converter) so this will create a package of that name in\n",
    "the current directory. This tutorial will have the bare bones\n",
    "files needed for that. The following will generate\n",
    "such a barebones directory structure.\n",
    "\n",
    "Since this tutorial effectively is editing files and needs\n",
    "to move between different directories, it is more awkward than\n",
    "usual for a notebook\n",
    "\n",
    "Required Software\n",
    "----------------------\n",
    "\n",
    "- numpy\n",
    "- asdf v2.8 or higher\n",
    "\n",
    "Let's begin\n",
    "-------------\n",
    "\n",
    "This will create a converter_tutorial directory in your home directory.\n",
    "If you wish it to be elsewhere, make the appropriate changes to the\n",
    "dependent commands, but if there is no strong reason to change it,\n",
    "leave it be."
   ]
  },
  {
   "cell_type": "markdown",
   "id": "ede348bd",
   "metadata": {},
   "source": [
    "And now we will create a module that has a very, very simple photo ID class and add a package `__init__.py`"
   ]
  },
  {
   "cell_type": "markdown",
   "id": "09ee1385",
   "metadata": {},
   "source": [
    "Next we create the file that contains the converter code"
   ]
  },
  {
   "cell_type": "markdown",
   "id": "55ca30cd",
   "metadata": {},
   "source": [
    "In the above example, the class attribute `types` is a list since it is\n",
    "possible for multiple types to use the same converter. Secondly, it is\n",
    "possible to supply the type as either a string (as done above) as the \n",
    "actual class itself. The former is preferred for peformance reasons as\n",
    "using the actual class itself forces the ASDF package to import the\n",
    "module containing the class, even if it is never used in the program\n",
    "using ASDF.\n",
    "\n",
    "The wildcard for the tag entry indicates that this converter will work\n",
    "with all versions of the tag. It isn't strictly needed here, but generally \n",
    "a good practice if one wants the converter code to handle multiple versions.\n",
    "(How to handle versioning is a topic in its own right and not covered here)\n",
    "\n",
    "We need to create a module for the entry point handling"
   ]
  },
  {
   "cell_type": "markdown",
   "id": "412c3e4f",
   "metadata": {},
   "source": [
    "And finally, the entry point reference in setup.cfg, provided here as a whole file."
   ]
  },
  {
   "cell_type": "markdown",
   "id": "8d0e3882",
   "metadata": {},
   "source": [
    "If you wish to learn more about entry points, see:\n",
    "https://packaging.python.org/guides/creating-and-discovering-plugins/\n",
    "\n",
    "We need the setup.py file too"
   ]
  },
  {
   "cell_type": "markdown",
   "id": "b7628aaa",
   "metadata": {},
   "source": [
    "Install package\n",
    "------------------"
   ]
  },
  {
   "cell_type": "code",
   "execution_count": null,
   "id": "9c324eae-a4f4-4b4b-a329-8774ede07b72",
   "metadata": {},
   "outputs": [],
   "source": [
    "!pip install ./Your_first_ASDF_converter"
   ]
  },
  {
   "cell_type": "markdown",
   "id": "f6a74c35",
   "metadata": {},
   "source": [
    "**Now restart the kernel by going up to the menu bar, click on kernel, and select restart kernel, and confirm**\n",
    "---------------------------------------------------------------------------------------------------------------"
   ]
  },
  {
   "cell_type": "code",
   "execution_count": null,
   "id": "86715832-2626-424a-ac1d-4816fab0d878",
   "metadata": {},
   "outputs": [],
   "source": [
    "import asdf\n",
    "af = asdf.AsdfFile()"
   ]
  },
  {
   "cell_type": "markdown",
   "id": "259142fa",
   "metadata": {},
   "source": [
    "Before trying a full test, it is good to see if asdf knows about this converter.\n",
    "Since the first thing that one will do is create an ASDF file with this object,\n",
    "does ASDF know about this type?"
   ]
  },
  {
   "cell_type": "code",
   "execution_count": null,
   "id": "6b4cebd9",
   "metadata": {},
   "outputs": [],
   "source": [
    "af.extension_manager._converters_by_type"
   ]
  },
  {
   "cell_type": "markdown",
   "id": "7ee97dfc",
   "metadata": {},
   "source": [
    "Depending on how many ASDF extensions you already have installed, \n",
    "the output may be fairly long. If your new converters is known by ASDF,\n",
    "you should see it in this list. It is not in this list, and that is likely\n",
    "due to some mismatch regarding the tag definitions and the uri's.\n",
    "Looking carefully at converter.py one can see that stsci.edu in the \n",
    "tag if followed by a `/` rather than a `:` as is expected by ASDF.\n"
   ]
  },
  {
   "cell_type": "markdown",
   "id": "acf4455d",
   "metadata": {},
   "source": [
    "Now you should see our converter in the list associated with the class.\n",
    "\n",
    "We will test making an ASDF file, instructing ASDF to write the\n",
    "array inline intead of binary, to keep the resulting file all text."
   ]
  },
  {
   "cell_type": "code",
   "execution_count": null,
   "id": "924da035",
   "metadata": {},
   "outputs": [],
   "source": [
    "import asdf\n",
    "import numpy as np\n",
    "import mfconverter.photo_id as pid\n",
    "image = np.zeros((10,10), dtype=np.byte)\n",
    "p = pid.PhotoID('man', 'invisible', image)\n",
    "af = asdf.AsdfFile()\n",
    "af.tree = {'id': p}\n",
    "af.write_to('test1.asdf', all_array_storage='inline')"
   ]
  },
  {
   "cell_type": "markdown",
   "id": "b62466f6",
   "metadata": {},
   "source": [
    "Let's look at the file contents"
   ]
  },
  {
   "cell_type": "code",
   "execution_count": null,
   "id": "378029fd",
   "metadata": {},
   "outputs": [],
   "source": [
    "!cat test1.asdf"
   ]
  },
  {
   "cell_type": "markdown",
   "id": "546dcbdf",
   "metadata": {},
   "source": [
    "One can see that under the `id` attribute that there are three components:\n",
    "first and last name, and a small image representing a black and white photo.\n",
    "\n",
    "Next we read in the file to see if it comes back as we expect (i.e., the \n",
    "same type of object it was originally with the values it was created with\n",
    "originally."
   ]
  },
  {
   "cell_type": "code",
   "execution_count": null,
   "id": "931d78a2",
   "metadata": {},
   "outputs": [],
   "source": [
    "af2 = asdf.open('test1.asdf')\n",
    "p2 = af2.tree['id']\n",
    "print(type(p2))\n",
    "print(p2.name())\n",
    "print(p2.photo)"
   ]
  },
  {
   "cell_type": "code",
   "execution_count": null,
   "id": "2ea64e4c",
   "metadata": {},
   "outputs": [],
   "source": []
  }
 ],
 "metadata": {
  "kernelspec": {
   "display_name": "Python 3 (ipykernel)",
   "language": "python",
   "name": "python3"
  },
  "language_info": {
   "codemirror_mode": {
    "name": "ipython",
    "version": 3
   },
   "file_extension": ".py",
   "mimetype": "text/x-python",
   "name": "python",
   "nbconvert_exporter": "python",
   "pygments_lexer": "ipython3",
   "version": "3.13.4"
  }
 },
 "nbformat": 4,
 "nbformat_minor": 5
}
